{
  "nbformat": 4,
  "nbformat_minor": 0,
  "metadata": {
    "colab": {
      "provenance": []
    },
    "kernelspec": {
      "name": "python3",
      "display_name": "Python 3"
    },
    "language_info": {
      "name": "python"
    },
    "accelerator": "GPU",
    "gpuClass": "standard"
  },
  "cells": [
    {
      "cell_type": "markdown",
      "source": [
        "# Algemeen"
      ],
      "metadata": {
        "id": "u8YM_YgA3rMP"
      }
    },
    {
      "cell_type": "markdown",
      "source": [
        "Groepsleden:\n",
        "- Nino Blues\n",
        "- Tim Boghe\n",
        "- Brent Gerets"
      ],
      "metadata": {
        "id": "QObn25n27BOQ"
      }
    },
    {
      "cell_type": "markdown",
      "source": [
        "Voer dit uit om de git repo in te laden:"
      ],
      "metadata": {
        "id": "sFtijhnY5uPh"
      }
    },
    {
      "cell_type": "code",
      "source": [
        "!git clone https://github.com/BrentGG/hac_cuda_project.git\n",
        "!mv /content/hac_cuda_project/* ."
      ],
      "metadata": {
        "id": "N-Z1GwF45uq_"
      },
      "execution_count": null,
      "outputs": []
    },
    {
      "cell_type": "markdown",
      "source": [
        "# C Versie"
      ],
      "metadata": {
        "id": "A7Z5s7Of1odN"
      }
    },
    {
      "cell_type": "code",
      "source": [
        "!nvcc opdracht_c.cu -o opdracht_c -l curl -lm"
      ],
      "metadata": {
        "id": "gg9MA0nEXrUN"
      },
      "execution_count": null,
      "outputs": []
    },
    {
      "cell_type": "code",
      "source": [
        "!./opdracht_c"
      ],
      "metadata": {
        "id": "DC_Wg4IumAyR"
      },
      "execution_count": null,
      "outputs": []
    },
    {
      "cell_type": "markdown",
      "source": [
        "# Cuda Versie"
      ],
      "metadata": {
        "id": "4vW9Q8Bki96A"
      }
    },
    {
      "cell_type": "code",
      "source": [
        "!nvcc opdracht_cuda.cu -o opdracht_cuda -l curl -lm --generate-line-info"
      ],
      "metadata": {
        "id": "knmPkWBvKEtR"
      },
      "execution_count": null,
      "outputs": []
    },
    {
      "cell_type": "code",
      "source": [
        "!./opdracht_cuda"
      ],
      "metadata": {
        "id": "Tds3Yh-zKHBf"
      },
      "execution_count": null,
      "outputs": []
    },
    {
      "cell_type": "markdown",
      "source": [
        "# Nsight Systems\n"
      ],
      "metadata": {
        "id": "yAPqap-iTc_u"
      }
    },
    {
      "cell_type": "code",
      "source": [
        "!nvcc --version"
      ],
      "metadata": {
        "id": "HNduu0A5XFVx"
      },
      "execution_count": null,
      "outputs": []
    },
    {
      "cell_type": "code",
      "source": [
        "!nvprof --print-gpu-trace ./opdracht_cuda"
      ],
      "metadata": {
        "id": "nl7zZlj0XHFq"
      },
      "execution_count": null,
      "outputs": []
    },
    {
      "cell_type": "code",
      "source": [
        "!nsys profile opdracht_cuda"
      ],
      "metadata": {
        "id": "SBN0n5QKXJPz"
      },
      "execution_count": null,
      "outputs": []
    },
    {
      "cell_type": "markdown",
      "source": [
        "# Nsight Compute"
      ],
      "metadata": {
        "id": "Zc8yRDjHXLWk"
      }
    },
    {
      "cell_type": "code",
      "source": [
        "!ncu --set full -o opdracht_cuda -f ./opdracht_cuda "
      ],
      "metadata": {
        "id": "w3iWzKcsXNnS"
      },
      "execution_count": null,
      "outputs": []
    }
  ]
}